{
 "cells": [
  {
   "cell_type": "markdown",
   "metadata": {},
   "source": [
    "# Plotting a GeoTIFF image with plotly"
   ]
  },
  {
   "cell_type": "markdown",
   "metadata": {},
   "source": [
    "### First attempt:\n",
    "*code sources: https://chart-studio.plotly.com/~empet/15837/plotly-plots-of-a-geotiff-image-https/#/ (https://community.plotly.com/u/empet)*\n",
    "### Second attempt:\n",
    "*code sources: https://plotly.com/python/3d-surface-plots/*"
   ]
  },
  {
   "cell_type": "code",
   "execution_count": 1,
   "metadata": {},
   "outputs": [
    {
     "output_type": "error",
     "ename": "ModuleNotFoundError",
     "evalue": "No module named 'plotly'",
     "traceback": [
      "\u001b[0;31m---------------------------------------------------------------------------\u001b[0m",
      "\u001b[0;31mModuleNotFoundError\u001b[0m                       Traceback (most recent call last)",
      "\u001b[0;32m<ipython-input-1-9b8206f2cbc2>\u001b[0m in \u001b[0;36m<module>\u001b[0;34m\u001b[0m\n\u001b[0;32m----> 1\u001b[0;31m \u001b[0;32mimport\u001b[0m \u001b[0mplotly\u001b[0m\u001b[0;34m.\u001b[0m\u001b[0mgraph_objects\u001b[0m \u001b[0;32mas\u001b[0m \u001b[0mgo\u001b[0m\u001b[0;34m\u001b[0m\u001b[0;34m\u001b[0m\u001b[0m\n\u001b[0m\u001b[1;32m      2\u001b[0m \u001b[0;32mimport\u001b[0m \u001b[0mpandas\u001b[0m \u001b[0;32mas\u001b[0m \u001b[0mpd\u001b[0m\u001b[0;34m\u001b[0m\u001b[0;34m\u001b[0m\u001b[0m\n",
      "\u001b[0;31mModuleNotFoundError\u001b[0m: No module named 'plotly'"
     ]
    }
   ],
   "source": [
    "import plotly.graph_objects as go\n",
    "import pandas as pd"
   ]
  },
  {
   "cell_type": "code",
   "execution_count": 2,
   "metadata": {},
   "outputs": [
    {
     "ename": "SyntaxError",
     "evalue": "invalid syntax (<ipython-input-2-d3a0f9007651>, line 3)",
     "output_type": "error",
     "traceback": [
      "\u001b[0;36m  File \u001b[0;32m\"<ipython-input-2-d3a0f9007651>\"\u001b[0;36m, line \u001b[0;32m3\u001b[0m\n\u001b[0;31m    bamako= {['0.0': 'rgb(0, 63, 76)'], # a scientific colorscale for dem data\u001b[0m\n\u001b[0m                   ^\u001b[0m\n\u001b[0;31mSyntaxError\u001b[0m\u001b[0;31m:\u001b[0m invalid syntax\n"
     ]
    }
   ],
   "source": [
    "# stored for later use if there's time to implement \n",
    "# a custom colorscale for the Figure.layout attribute\n",
    "bamako= {['0.0': 'rgb(0, 63, 76)'], # a scientific colorscale for dem data\n",
    " ['0.1': 'rgb(29, 81, 59)'],\n",
    " ['0.2': 'rgb(55, 98, 43)'],\n",
    " ['0.3': 'rgb(79, 114, 30)'],\n",
    " ['0.4': 'rgb(103, 129, 16)'],\n",
    " ['0.5': 'rgb(136, 142, 2)'],\n",
    " ['0.6': 'rgb(169, 154, 21)'],\n",
    " ['0.7': 'rgb(192, 171, 45)'],\n",
    " ['0.8': 'rgb(214, 188, 74)'],\n",
    " ['0.9': 'rgb(234, 209, 112)'],\n",
    " ['1.0': 'rgb(254, 229, 152)']}\n",
    "\n",
    "# After tweaking the syntax to try get the colorscale attribute\n",
    "# of the below used Figure.layout attribute of fig,\n",
    "# which consisted of \n",
    "# (rollback log) changing the comma's to colons and the list of \n",
    "# two element lists into a dict, setting the keys with singel quotes instead of \n",
    "# no quotes (/rollback log),\n",
    "# The interpreter reports this as an invalid syntax pointing at the first colon.\n",
    "# As this should in itself be possible within python, this is strange to me.\n",
    "# Further investigation pending, while priority goes to slicing, then probably\n",
    "# trying to tweak standard colorscale for the layout of the go.Figure."
   ]
  },
  {
   "cell_type": "code",
   "execution_count": 19,
   "metadata": {},
   "outputs": [],
   "source": [
    "# trial code copy\n",
    "# Read data from a csv\n",
    "z_data = pd.read_csv('https://raw.githubusercontent.com/plotly/datasets/master/api_docs/mt_bruno_elevation.csv')\n",
    "\n",
    "fig = go.Figure(data=[go.Surface(z=z_data.values)])\n",
    "\n",
    "fig.update_layout(title='Mt Bruno Elevation', autosize=False,\n",
    "                  width=500, height=500,\n",
    "                  margin=dict(l=65, r=50, b=65, t=90),\n",
    "                 colorscale=go.layout.Colorscale(diverging='greens'))\n",
    "\n",
    "fig.write_html('first_figure.html', auto_open=True)"
   ]
  },
  {
   "cell_type": "code",
   "execution_count": null,
   "metadata": {},
   "outputs": [],
   "source": [
    "# fig.write_html('first_figure.html', auto_open=True)"
   ]
  },
  {
   "cell_type": "code",
   "execution_count": null,
   "metadata": {},
   "outputs": [],
   "source": []
  },
  {
   "cell_type": "code",
   "execution_count": null,
   "metadata": {},
   "outputs": [],
   "source": []
  },
  {
   "cell_type": "code",
   "execution_count": null,
   "metadata": {},
   "outputs": [],
   "source": []
  }
 ],
 "metadata": {
  "kernelspec": {
   "display_name": "Python 3",
   "language": "python",
   "name": "python3"
  },
  "language_info": {
   "codemirror_mode": {
    "name": "ipython",
    "version": 3
   },
   "file_extension": ".py",
   "mimetype": "text/x-python",
   "name": "python",
   "nbconvert_exporter": "python",
   "pygments_lexer": "ipython3",
   "version": "3.8.5-final"
  }
 },
 "nbformat": 4,
 "nbformat_minor": 4
}