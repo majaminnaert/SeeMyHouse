{
 "cells": [
  {
   "cell_type": "code",
   "execution_count": 2,
   "metadata": {
    "collapsed": true
   },
   "outputs": [
    {
     "name": "stdout",
     "output_type": "stream",
     "text": [
      "Data libraries imported!\n",
      "Visualization libraries imported!\n"
     ]
    }
   ],
   "source": [
    "# import data libraries\n",
    "import numpy as np\n",
    "import pandas as pd\n",
    "import geopandas as gpd\n",
    "import gdal\n",
    "print(\"Data libraries imported!\")\n",
    "# import visualization libraries\n",
    "import matplotlib\n",
    "import matplotlib.pyplot as plt\n",
    "from mpl_toolkits.mplot3d import Axes3D\n",
    "print(\"Visualization libraries imported!\")"
   ]
  },
  {
   "cell_type": "code",
   "execution_count": 3,
   "outputs": [],
   "source": [
    "# Read shape file at \"data/DHMVIIDSMRAS1m_k05/DHMVII_vdc_k5/DHMVII_vdc_k5.shp\"\n",
    "dataset = gpd.read_file(\"coredata/DHMVIIDSMRAS1m_k05/DHMVII_vdc_k5/DHMVII_vdc_k5.shp\")"
   ],
   "metadata": {
    "collapsed": false,
    "pycharm": {
     "name": "#%%\n"
    }
   }
  },
  {
   "cell_type": "code",
   "execution_count": 4,
   "outputs": [
    {
     "data": {
      "text/plain": "       Date   OpnDatum1   OpnDatum2  \\\n0  20140319  2014-03-19        None   \n1  20140317  2014-03-19  2014-03-17   \n2  20140317  2014-03-17        None   \n3  20140317  2014-03-17  2014-03-30   \n4  20140330  2014-03-30        None   \n\n                                            geometry  \n0  POLYGON Z ((86000.000 230206.366 0.000, 85998....  \n1  POLYGON Z ((86000.000 230206.366 0.000, 86000....  \n2  MULTIPOLYGON Z (((97000.000 228000.000 0.000, ...  \n3  MULTIPOLYGON Z (((95075.940 227675.980 0.000, ...  \n4  POLYGON Z ((87000.000 227360.941 0.000, 87000....  ",
      "text/html": "<div>\n<style scoped>\n    .dataframe tbody tr th:only-of-type {\n        vertical-align: middle;\n    }\n\n    .dataframe tbody tr th {\n        vertical-align: top;\n    }\n\n    .dataframe thead th {\n        text-align: right;\n    }\n</style>\n<table border=\"1\" class=\"dataframe\">\n  <thead>\n    <tr style=\"text-align: right;\">\n      <th></th>\n      <th>Date</th>\n      <th>OpnDatum1</th>\n      <th>OpnDatum2</th>\n      <th>geometry</th>\n    </tr>\n  </thead>\n  <tbody>\n    <tr>\n      <th>0</th>\n      <td>20140319</td>\n      <td>2014-03-19</td>\n      <td>None</td>\n      <td>POLYGON Z ((86000.000 230206.366 0.000, 85998....</td>\n    </tr>\n    <tr>\n      <th>1</th>\n      <td>20140317</td>\n      <td>2014-03-19</td>\n      <td>2014-03-17</td>\n      <td>POLYGON Z ((86000.000 230206.366 0.000, 86000....</td>\n    </tr>\n    <tr>\n      <th>2</th>\n      <td>20140317</td>\n      <td>2014-03-17</td>\n      <td>None</td>\n      <td>MULTIPOLYGON Z (((97000.000 228000.000 0.000, ...</td>\n    </tr>\n    <tr>\n      <th>3</th>\n      <td>20140317</td>\n      <td>2014-03-17</td>\n      <td>2014-03-30</td>\n      <td>MULTIPOLYGON Z (((95075.940 227675.980 0.000, ...</td>\n    </tr>\n    <tr>\n      <th>4</th>\n      <td>20140330</td>\n      <td>2014-03-30</td>\n      <td>None</td>\n      <td>POLYGON Z ((87000.000 227360.941 0.000, 87000....</td>\n    </tr>\n  </tbody>\n</table>\n</div>"
     },
     "execution_count": 4,
     "metadata": {},
     "output_type": "execute_result"
    }
   ],
   "source": [
    "# Preview data\n",
    "dataset.head()"
   ],
   "metadata": {
    "collapsed": false,
    "pycharm": {
     "name": "#%%\n"
    }
   }
  },
  {
   "cell_type": "code",
   "execution_count": 5,
   "outputs": [
    {
     "data": {
      "text/plain": "<AxesSubplot:>"
     },
     "execution_count": 5,
     "metadata": {},
     "output_type": "execute_result"
    },
    {
     "data": {
      "text/plain": "<Figure size 432x288 with 1 Axes>",
      "image/png": "[encoded data removed]"
     },
     "metadata": {
      "needs_background": "light"
     },
     "output_type": "display_data"
    }
   ],
   "source": [
    "# Basic plot\n",
    "dataset.plot()"
   ],
   "metadata": {
    "collapsed": false,
    "pycharm": {
     "name": "#%%\n"
    }
   }
  },
  {
   "cell_type": "code",
   "execution_count": 6,
   "outputs": [
    {
     "ename": "AttributeError",
     "evalue": "'numpy.ndarray' object has no attribute 'head'",
     "output_type": "error",
     "traceback": [
      "\u001B[0;31m---------------------------------------------------------------------------\u001B[0m",
      "\u001B[0;31mAttributeError\u001B[0m                            Traceback (most recent call last)",
      "\u001B[0;32m<ipython-input-6-1e4c60415a67>\u001B[0m in \u001B[0;36m<module>\u001B[0;34m\u001B[0m\n\u001B[1;32m      3\u001B[0m \u001B[0mgt\u001B[0m \u001B[0;34m=\u001B[0m \u001B[0mdem\u001B[0m\u001B[0;34m.\u001B[0m\u001B[0mGetGeoTransform\u001B[0m\u001B[0;34m(\u001B[0m\u001B[0;34m)\u001B[0m\u001B[0;34m\u001B[0m\u001B[0;34m\u001B[0m\u001B[0m\n\u001B[1;32m      4\u001B[0m \u001B[0mdem\u001B[0m \u001B[0;34m=\u001B[0m \u001B[0mdem\u001B[0m\u001B[0;34m.\u001B[0m\u001B[0mReadAsArray\u001B[0m\u001B[0;34m(\u001B[0m\u001B[0;34m)\u001B[0m\u001B[0;34m\u001B[0m\u001B[0;34m\u001B[0m\u001B[0m\n\u001B[0;32m----> 5\u001B[0;31m \u001B[0mdem\u001B[0m\u001B[0;34m.\u001B[0m\u001B[0mhead\u001B[0m\u001B[0;34m(\u001B[0m\u001B[0;34m)\u001B[0m\u001B[0;34m\u001B[0m\u001B[0;34m\u001B[0m\u001B[0m\n\u001B[0m",
      "\u001B[0;31mAttributeError\u001B[0m: 'numpy.ndarray' object has no attribute 'head'"
     ]
    }
   ],
   "source": [
    "# reading tif file for 3D plot attempt\n",
    "dem = gdal.Open(\"coredata/DHMVIIDSMRAS1m_k05.tif\")\n",
    "gt = dem.GetGeoTransform()\n",
    "dem = dem.ReadAsArray()"
   ],
   "metadata": {
    "collapsed": false,
    "pycharm": {
     "name": "#%%\n"
    }
   }
  },
  {
   "cell_type": "code",
   "execution_count": null,
   "outputs": [],
   "source": [
    "# copied from https://stackoverflow.com/questions/17713050/display-a-georeferenced-dem-surface-in-3d-matplotlib\n",
    "# in process of figuring out; copied for quick reference\n",
    "# fig, ax = plt.subplots(figsize=(16,8), subplot_kw={'projection': '3d'})\n",
    "#\n",
    "# xres = gt[1]\n",
    "# yres = gt[5]\n",
    "#\n",
    "# X = np.arange(gt[0], gt[0] + dem.shape[1]*xres, xres)\n",
    "# Y = np.arange(gt[3], gt[3] + dem.shape[0]*yres, yres)\n",
    "#\n",
    "# X, Y = np.meshgrid(X, Y)\n",
    "#\n",
    "# surf = ax.plot_surface(X,Y,dem, rstride=1, cstride=1, cmap=plt.cm.RdYlBu_r, vmin=0, vmax=4000, linewidth=0, antialiased=True)\n",
    "#\n",
    "# ax.set_zlim(0, 60_000)\n",
    "# ax.view_init(60, -105)\n",
    "#\n",
    "# fig.colorbar(surf, shrink=0.4, aspect=20)"
   ],
   "metadata": {
    "collapsed": false,
    "pycharm": {
     "name": "#%%\n",
     "is_executing": true
    }
   }
  },
  {
   "cell_type": "code",
   "execution_count": null,
   "outputs": [],
   "source": [
    "# Let's try another approach\n",
    "# First a general 3d scatter plotting excercise\n",
    "# Source: http://chris35wills.github.io/courses/PythonPackages_matplotlib/matplotlib_3d/\n",
    "xyz=np.array(np.random.random((100,3)))\n",
    "x = xyz[:,0]\n",
    "y = xyz[:,1]\n",
    "z = xyz[:,2]*100\n"
   ],
   "metadata": {
    "collapsed": false,
    "pycharm": {
     "name": "#%%\n",
     "is_executing": true
    }
   }
  },
  {
   "cell_type": "code",
   "execution_count": null,
   "outputs": [],
   "source": [],
   "metadata": {
    "collapsed": false,
    "pycharm": {
     "name": "#%%\n"
    }
   }
  }
 ],
 "metadata": {
  "kernelspec": {
   "display_name": "Python 3",
   "language": "python",
   "name": "python3"
  },
  "language_info": {
   "codemirror_mode": {
    "name": "ipython",
    "version": 2
   },
   "file_extension": ".py",
   "mimetype": "text/x-python",
   "name": "python",
   "nbconvert_exporter": "python",
   "pygments_lexer": "ipython2",
   "version": "2.7.6"
  }
 },
 "nbformat": 4,
 "nbformat_minor": 0
}